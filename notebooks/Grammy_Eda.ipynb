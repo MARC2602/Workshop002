{
 "cells": [
  {
   "cell_type": "code",
   "execution_count": 17,
   "metadata": {},
   "outputs": [
    {
     "data": {
      "text/html": [
       "<div>\n",
       "<style scoped>\n",
       "    .dataframe tbody tr th:only-of-type {\n",
       "        vertical-align: middle;\n",
       "    }\n",
       "\n",
       "    .dataframe tbody tr th {\n",
       "        vertical-align: top;\n",
       "    }\n",
       "\n",
       "    .dataframe thead th {\n",
       "        text-align: right;\n",
       "    }\n",
       "</style>\n",
       "<table border=\"1\" class=\"dataframe\">\n",
       "  <thead>\n",
       "    <tr style=\"text-align: right;\">\n",
       "      <th></th>\n",
       "      <th>year</th>\n",
       "      <th>title</th>\n",
       "      <th>published_at</th>\n",
       "      <th>updated_at</th>\n",
       "      <th>category</th>\n",
       "      <th>nominee</th>\n",
       "      <th>artist</th>\n",
       "      <th>workers</th>\n",
       "      <th>img</th>\n",
       "      <th>winner</th>\n",
       "    </tr>\n",
       "  </thead>\n",
       "  <tbody>\n",
       "    <tr>\n",
       "      <th>0</th>\n",
       "      <td>2019</td>\n",
       "      <td>62nd Annual GRAMMY Awards  (2019)</td>\n",
       "      <td>2020-05-19T05:10:28-07:00</td>\n",
       "      <td>2020-05-19T05:10:28-07:00</td>\n",
       "      <td>Record Of The Year</td>\n",
       "      <td>Bad Guy</td>\n",
       "      <td>Billie Eilish</td>\n",
       "      <td>Finneas O'Connell, producer; Rob Kinelski &amp; Fi...</td>\n",
       "      <td>https://www.grammy.com/sites/com/files/styles/...</td>\n",
       "      <td>True</td>\n",
       "    </tr>\n",
       "    <tr>\n",
       "      <th>1</th>\n",
       "      <td>2019</td>\n",
       "      <td>62nd Annual GRAMMY Awards  (2019)</td>\n",
       "      <td>2020-05-19T05:10:28-07:00</td>\n",
       "      <td>2020-05-19T05:10:28-07:00</td>\n",
       "      <td>Record Of The Year</td>\n",
       "      <td>Hey, Ma</td>\n",
       "      <td>Bon Iver</td>\n",
       "      <td>BJ Burton, Brad Cook, Chris Messina &amp; Justin V...</td>\n",
       "      <td>https://www.grammy.com/sites/com/files/styles/...</td>\n",
       "      <td>True</td>\n",
       "    </tr>\n",
       "    <tr>\n",
       "      <th>2</th>\n",
       "      <td>2019</td>\n",
       "      <td>62nd Annual GRAMMY Awards  (2019)</td>\n",
       "      <td>2020-05-19T05:10:28-07:00</td>\n",
       "      <td>2020-05-19T05:10:28-07:00</td>\n",
       "      <td>Record Of The Year</td>\n",
       "      <td>7 rings</td>\n",
       "      <td>Ariana Grande</td>\n",
       "      <td>Charles Anderson, Tommy Brown, Michael Foster ...</td>\n",
       "      <td>https://www.grammy.com/sites/com/files/styles/...</td>\n",
       "      <td>True</td>\n",
       "    </tr>\n",
       "    <tr>\n",
       "      <th>3</th>\n",
       "      <td>2019</td>\n",
       "      <td>62nd Annual GRAMMY Awards  (2019)</td>\n",
       "      <td>2020-05-19T05:10:28-07:00</td>\n",
       "      <td>2020-05-19T05:10:28-07:00</td>\n",
       "      <td>Record Of The Year</td>\n",
       "      <td>Hard Place</td>\n",
       "      <td>H.E.R.</td>\n",
       "      <td>Rodney “Darkchild” Jerkins, producer; Joseph H...</td>\n",
       "      <td>https://www.grammy.com/sites/com/files/styles/...</td>\n",
       "      <td>True</td>\n",
       "    </tr>\n",
       "    <tr>\n",
       "      <th>4</th>\n",
       "      <td>2019</td>\n",
       "      <td>62nd Annual GRAMMY Awards  (2019)</td>\n",
       "      <td>2020-05-19T05:10:28-07:00</td>\n",
       "      <td>2020-05-19T05:10:28-07:00</td>\n",
       "      <td>Record Of The Year</td>\n",
       "      <td>Talk</td>\n",
       "      <td>Khalid</td>\n",
       "      <td>Disclosure &amp; Denis Kosiak, producers; Ingmar C...</td>\n",
       "      <td>https://www.grammy.com/sites/com/files/styles/...</td>\n",
       "      <td>True</td>\n",
       "    </tr>\n",
       "  </tbody>\n",
       "</table>\n",
       "</div>"
      ],
      "text/plain": [
       "   year                              title               published_at  \\\n",
       "0  2019  62nd Annual GRAMMY Awards  (2019)  2020-05-19T05:10:28-07:00   \n",
       "1  2019  62nd Annual GRAMMY Awards  (2019)  2020-05-19T05:10:28-07:00   \n",
       "2  2019  62nd Annual GRAMMY Awards  (2019)  2020-05-19T05:10:28-07:00   \n",
       "3  2019  62nd Annual GRAMMY Awards  (2019)  2020-05-19T05:10:28-07:00   \n",
       "4  2019  62nd Annual GRAMMY Awards  (2019)  2020-05-19T05:10:28-07:00   \n",
       "\n",
       "                  updated_at            category     nominee         artist  \\\n",
       "0  2020-05-19T05:10:28-07:00  Record Of The Year     Bad Guy  Billie Eilish   \n",
       "1  2020-05-19T05:10:28-07:00  Record Of The Year     Hey, Ma       Bon Iver   \n",
       "2  2020-05-19T05:10:28-07:00  Record Of The Year     7 rings  Ariana Grande   \n",
       "3  2020-05-19T05:10:28-07:00  Record Of The Year  Hard Place         H.E.R.   \n",
       "4  2020-05-19T05:10:28-07:00  Record Of The Year        Talk         Khalid   \n",
       "\n",
       "                                             workers  \\\n",
       "0  Finneas O'Connell, producer; Rob Kinelski & Fi...   \n",
       "1  BJ Burton, Brad Cook, Chris Messina & Justin V...   \n",
       "2  Charles Anderson, Tommy Brown, Michael Foster ...   \n",
       "3  Rodney “Darkchild” Jerkins, producer; Joseph H...   \n",
       "4  Disclosure & Denis Kosiak, producers; Ingmar C...   \n",
       "\n",
       "                                                 img  winner  \n",
       "0  https://www.grammy.com/sites/com/files/styles/...    True  \n",
       "1  https://www.grammy.com/sites/com/files/styles/...    True  \n",
       "2  https://www.grammy.com/sites/com/files/styles/...    True  \n",
       "3  https://www.grammy.com/sites/com/files/styles/...    True  \n",
       "4  https://www.grammy.com/sites/com/files/styles/...    True  "
      ]
     },
     "execution_count": 17,
     "metadata": {},
     "output_type": "execute_result"
    }
   ],
   "source": [
    "import pandas as pd\n",
    "from sqlalchemy import create_engine\n",
    "from dotenv import load_dotenv\n",
    "import os\n",
    "\n",
    "\n",
    "load_dotenv(\"../credentials.env\") #Here goes the credentials for your Database\n",
    "\n",
    "db_username = os.getenv(\"DB_USERNAME\")\n",
    "db_password = os.getenv(\"DB_PASSWORD\")\n",
    "db_host = os.getenv(\"DB_HOST\")\n",
    "db_port = os.getenv(\"DB_PORT\")\n",
    "db_name = os.getenv(\"DB_NAME\")\n",
    "\n",
    "engine = create_engine(f\"postgresql://{db_username}:{db_password}@{db_host}:{db_port}/{db_name}\")\n",
    "\n",
    "query = \"SELECT * FROM clean_awards\"\n",
    "\n",
    "df = pd.read_sql_query(query, engine)\n",
    "df.head()"
   ]
  },
  {
   "cell_type": "code",
   "execution_count": 18,
   "metadata": {},
   "outputs": [
    {
     "name": "stdout",
     "output_type": "stream",
     "text": [
      "<class 'pandas.core.frame.DataFrame'>\n",
      "RangeIndex: 4810 entries, 0 to 4809\n",
      "Data columns (total 10 columns):\n",
      " #   Column        Non-Null Count  Dtype \n",
      "---  ------        --------------  ----- \n",
      " 0   year          4810 non-null   int64 \n",
      " 1   title         4810 non-null   object\n",
      " 2   published_at  4810 non-null   object\n",
      " 3   updated_at    4810 non-null   object\n",
      " 4   category      4810 non-null   object\n",
      " 5   nominee       4804 non-null   object\n",
      " 6   artist        2970 non-null   object\n",
      " 7   workers       2620 non-null   object\n",
      " 8   img           3443 non-null   object\n",
      " 9   winner        4810 non-null   bool  \n",
      "dtypes: bool(1), int64(1), object(8)\n",
      "memory usage: 343.0+ KB\n"
     ]
    }
   ],
   "source": [
    "df.info()"
   ]
  },
  {
   "cell_type": "markdown",
   "metadata": {},
   "source": [
    "There are nulls in nominee artist, workers and img\n",
    "\n",
    "Also its seems the published_at and updated_at are objects (Need to be transformed into date type)"
   ]
  },
  {
   "cell_type": "markdown",
   "metadata": {},
   "source": [
    "#### Summary"
   ]
  },
  {
   "cell_type": "code",
   "execution_count": 19,
   "metadata": {},
   "outputs": [
    {
     "data": {
      "text/html": [
       "<div>\n",
       "<style scoped>\n",
       "    .dataframe tbody tr th:only-of-type {\n",
       "        vertical-align: middle;\n",
       "    }\n",
       "\n",
       "    .dataframe tbody tr th {\n",
       "        vertical-align: top;\n",
       "    }\n",
       "\n",
       "    .dataframe thead th {\n",
       "        text-align: right;\n",
       "    }\n",
       "</style>\n",
       "<table border=\"1\" class=\"dataframe\">\n",
       "  <thead>\n",
       "    <tr style=\"text-align: right;\">\n",
       "      <th></th>\n",
       "      <th>year</th>\n",
       "    </tr>\n",
       "  </thead>\n",
       "  <tbody>\n",
       "    <tr>\n",
       "      <th>count</th>\n",
       "      <td>4810.000000</td>\n",
       "    </tr>\n",
       "    <tr>\n",
       "      <th>mean</th>\n",
       "      <td>1995.566944</td>\n",
       "    </tr>\n",
       "    <tr>\n",
       "      <th>std</th>\n",
       "      <td>17.149720</td>\n",
       "    </tr>\n",
       "    <tr>\n",
       "      <th>min</th>\n",
       "      <td>1958.000000</td>\n",
       "    </tr>\n",
       "    <tr>\n",
       "      <th>25%</th>\n",
       "      <td>1983.000000</td>\n",
       "    </tr>\n",
       "    <tr>\n",
       "      <th>50%</th>\n",
       "      <td>1998.000000</td>\n",
       "    </tr>\n",
       "    <tr>\n",
       "      <th>75%</th>\n",
       "      <td>2010.000000</td>\n",
       "    </tr>\n",
       "    <tr>\n",
       "      <th>max</th>\n",
       "      <td>2019.000000</td>\n",
       "    </tr>\n",
       "  </tbody>\n",
       "</table>\n",
       "</div>"
      ],
      "text/plain": [
       "              year\n",
       "count  4810.000000\n",
       "mean   1995.566944\n",
       "std      17.149720\n",
       "min    1958.000000\n",
       "25%    1983.000000\n",
       "50%    1998.000000\n",
       "75%    2010.000000\n",
       "max    2019.000000"
      ]
     },
     "execution_count": 19,
     "metadata": {},
     "output_type": "execute_result"
    }
   ],
   "source": [
    "# Numerical summary\n",
    "numerical_summary = df.describe()\n",
    "numerical_summary"
   ]
  },
  {
   "cell_type": "code",
   "execution_count": 20,
   "metadata": {},
   "outputs": [
    {
     "data": {
      "text/html": [
       "<div>\n",
       "<style scoped>\n",
       "    .dataframe tbody tr th:only-of-type {\n",
       "        vertical-align: middle;\n",
       "    }\n",
       "\n",
       "    .dataframe tbody tr th {\n",
       "        vertical-align: top;\n",
       "    }\n",
       "\n",
       "    .dataframe thead th {\n",
       "        text-align: right;\n",
       "    }\n",
       "</style>\n",
       "<table border=\"1\" class=\"dataframe\">\n",
       "  <thead>\n",
       "    <tr style=\"text-align: right;\">\n",
       "      <th></th>\n",
       "      <th>title</th>\n",
       "      <th>published_at</th>\n",
       "      <th>updated_at</th>\n",
       "      <th>category</th>\n",
       "      <th>nominee</th>\n",
       "      <th>artist</th>\n",
       "      <th>workers</th>\n",
       "      <th>img</th>\n",
       "      <th>winner</th>\n",
       "    </tr>\n",
       "  </thead>\n",
       "  <tbody>\n",
       "    <tr>\n",
       "      <th>count</th>\n",
       "      <td>4810</td>\n",
       "      <td>4810</td>\n",
       "      <td>4810</td>\n",
       "      <td>4810</td>\n",
       "      <td>4804</td>\n",
       "      <td>2970</td>\n",
       "      <td>2620</td>\n",
       "      <td>3443</td>\n",
       "      <td>4810</td>\n",
       "    </tr>\n",
       "    <tr>\n",
       "      <th>unique</th>\n",
       "      <td>62</td>\n",
       "      <td>4</td>\n",
       "      <td>10</td>\n",
       "      <td>638</td>\n",
       "      <td>4131</td>\n",
       "      <td>1658</td>\n",
       "      <td>2366</td>\n",
       "      <td>1463</td>\n",
       "      <td>1</td>\n",
       "    </tr>\n",
       "    <tr>\n",
       "      <th>top</th>\n",
       "      <td>62nd Annual GRAMMY Awards  (2019)</td>\n",
       "      <td>2017-11-28T00:03:45-08:00</td>\n",
       "      <td>2019-09-10T01:08:19-07:00</td>\n",
       "      <td>Song Of The Year</td>\n",
       "      <td>Robert Woods</td>\n",
       "      <td>(Various Artists)</td>\n",
       "      <td>John Williams, composer (John Williams)</td>\n",
       "      <td>https://www.grammy.com/sites/com/files/styles/...</td>\n",
       "      <td>True</td>\n",
       "    </tr>\n",
       "    <tr>\n",
       "      <th>freq</th>\n",
       "      <td>433</td>\n",
       "      <td>4205</td>\n",
       "      <td>778</td>\n",
       "      <td>70</td>\n",
       "      <td>7</td>\n",
       "      <td>66</td>\n",
       "      <td>20</td>\n",
       "      <td>26</td>\n",
       "      <td>4810</td>\n",
       "    </tr>\n",
       "  </tbody>\n",
       "</table>\n",
       "</div>"
      ],
      "text/plain": [
       "                                    title               published_at  \\\n",
       "count                                4810                       4810   \n",
       "unique                                 62                          4   \n",
       "top     62nd Annual GRAMMY Awards  (2019)  2017-11-28T00:03:45-08:00   \n",
       "freq                                  433                       4205   \n",
       "\n",
       "                       updated_at          category       nominee  \\\n",
       "count                        4810              4810          4804   \n",
       "unique                         10               638          4131   \n",
       "top     2019-09-10T01:08:19-07:00  Song Of The Year  Robert Woods   \n",
       "freq                          778                70             7   \n",
       "\n",
       "                   artist                                  workers  \\\n",
       "count                2970                                     2620   \n",
       "unique               1658                                     2366   \n",
       "top     (Various Artists)  John Williams, composer (John Williams)   \n",
       "freq                   66                                       20   \n",
       "\n",
       "                                                      img winner  \n",
       "count                                                3443   4810  \n",
       "unique                                               1463      1  \n",
       "top     https://www.grammy.com/sites/com/files/styles/...   True  \n",
       "freq                                                   26   4810  "
      ]
     },
     "execution_count": 20,
     "metadata": {},
     "output_type": "execute_result"
    }
   ],
   "source": [
    "#Categorical summary\n",
    "categorical_summary = df.describe(include=['object','bool'])\n",
    "categorical_summary"
   ]
  },
  {
   "cell_type": "markdown",
   "metadata": {},
   "source": [
    "## Column analysis"
   ]
  },
  {
   "cell_type": "markdown",
   "metadata": {},
   "source": [
    "### Year"
   ]
  },
  {
   "cell_type": "code",
   "execution_count": 21,
   "metadata": {},
   "outputs": [
    {
     "data": {
      "text/plain": [
       "year\n",
       "2019    433\n",
       "2007    111\n",
       "2008    111\n",
       "2006    110\n",
       "2009    109\n",
       "       ... \n",
       "1968     40\n",
       "1960     39\n",
       "1962     39\n",
       "1959     35\n",
       "1958     28\n",
       "Name: count, Length: 62, dtype: int64"
      ]
     },
     "execution_count": 21,
     "metadata": {},
     "output_type": "execute_result"
    }
   ],
   "source": [
    "df['year'].value_counts()"
   ]
  },
  {
   "cell_type": "markdown",
   "metadata": {},
   "source": [
    "### Title"
   ]
  },
  {
   "cell_type": "code",
   "execution_count": 22,
   "metadata": {},
   "outputs": [
    {
     "data": {
      "text/plain": [
       "title\n",
       "62nd Annual GRAMMY Awards  (2019)    433\n",
       "50th Annual GRAMMY Awards  (2007)    111\n",
       "51st Annual GRAMMY Awards  (2008)    111\n",
       "49th Annual GRAMMY Awards  (2006)    110\n",
       "52nd Annual GRAMMY Awards  (2009)    109\n",
       "                                    ... \n",
       "11th Annual GRAMMY Awards  (1968)     40\n",
       "3rd Annual GRAMMY Awards  (1960)      39\n",
       "5th Annual GRAMMY Awards  (1962)      39\n",
       "2nd Annual GRAMMY Awards  (1959)      35\n",
       "1st Annual GRAMMY Awards  (1958)      28\n",
       "Name: count, Length: 62, dtype: int64"
      ]
     },
     "execution_count": 22,
     "metadata": {},
     "output_type": "execute_result"
    }
   ],
   "source": [
    "df['title'].value_counts()"
   ]
  },
  {
   "cell_type": "markdown",
   "metadata": {},
   "source": [
    "### Published/Updated at"
   ]
  },
  {
   "cell_type": "code",
   "execution_count": 23,
   "metadata": {},
   "outputs": [
    {
     "data": {
      "text/plain": [
       "published_at\n",
       "2017-11-28T00:03:45-08:00    4205\n",
       "2020-05-19T05:10:28-07:00     433\n",
       "2018-12-06T23:48:49-08:00      86\n",
       "2018-05-22T03:08:24-07:00      86\n",
       "Name: count, dtype: int64"
      ]
     },
     "execution_count": 23,
     "metadata": {},
     "output_type": "execute_result"
    }
   ],
   "source": [
    "df['published_at'].value_counts()"
   ]
  },
  {
   "cell_type": "code",
   "execution_count": 24,
   "metadata": {},
   "outputs": [
    {
     "data": {
      "text/plain": [
       "updated_at\n",
       "2019-09-10T01:08:19-07:00    778\n",
       "2019-09-10T01:06:11-07:00    754\n",
       "2019-09-10T01:07:37-07:00    713\n",
       "2019-09-10T01:06:59-07:00    681\n",
       "2019-09-10T01:11:09-07:00    658\n",
       "2019-09-10T01:09:02-07:00    554\n",
       "2020-05-19T05:10:28-07:00    433\n",
       "2017-11-28T00:03:45-08:00    108\n",
       "2020-09-01T12:16:40-07:00     83\n",
       "2019-09-10T01:11:48-07:00     48\n",
       "Name: count, dtype: int64"
      ]
     },
     "execution_count": 24,
     "metadata": {},
     "output_type": "execute_result"
    }
   ],
   "source": [
    "df['updated_at'].value_counts()"
   ]
  },
  {
   "cell_type": "markdown",
   "metadata": {},
   "source": [
    "### Category"
   ]
  },
  {
   "cell_type": "code",
   "execution_count": 25,
   "metadata": {},
   "outputs": [
    {
     "data": {
      "text/plain": [
       "category\n",
       "Song Of The Year                                                                          70\n",
       "Record Of The Year                                                                        69\n",
       "Album Of The Year                                                                         66\n",
       "Best Opera Recording                                                                      64\n",
       "Best Album Notes                                                                          63\n",
       "                                                                                          ..\n",
       "Best Album Cover (Other Than Classical)                                                    1\n",
       "Best Classical Performance - Operatic Or Choral                                            1\n",
       "Best Sound Track Album Or Recording Of Original Cast From Motion Picture Or Television     1\n",
       "Best Sound Track Album Or Recording Of Score From Motion Picture Or Television             1\n",
       "Best Performance By A \"Top 40\" Artist                                                      1\n",
       "Name: count, Length: 638, dtype: int64"
      ]
     },
     "execution_count": 25,
     "metadata": {},
     "output_type": "execute_result"
    }
   ],
   "source": [
    "df['category'].value_counts()"
   ]
  },
  {
   "cell_type": "markdown",
   "metadata": {},
   "source": [
    "### Nominee"
   ]
  },
  {
   "cell_type": "code",
   "execution_count": 26,
   "metadata": {},
   "outputs": [
    {
     "data": {
      "text/plain": [
       "nominee\n",
       "Robert Woods                          7\n",
       "Bridge Over Troubled Water            7\n",
       "Berlioz: Requiem                      7\n",
       "Steven Epstein                        7\n",
       "Up, Up And Away                       6\n",
       "                                     ..\n",
       "The Best Of The Stan Freberg Shows    1\n",
       "Gigi                                  1\n",
       "The Music Man                         1\n",
       "Cross Country Suite                   1\n",
       "Only The Lonely                       1\n",
       "Name: count, Length: 4131, dtype: int64"
      ]
     },
     "execution_count": 26,
     "metadata": {},
     "output_type": "execute_result"
    }
   ],
   "source": [
    "df['nominee'].value_counts()"
   ]
  },
  {
   "cell_type": "markdown",
   "metadata": {},
   "source": [
    "### Artist"
   ]
  },
  {
   "cell_type": "code",
   "execution_count": 27,
   "metadata": {},
   "outputs": [
    {
     "data": {
      "text/plain": [
       "artist\n",
       "(Various Artists)                                          66\n",
       "U2                                                         18\n",
       "Aretha Franklin                                            16\n",
       "Stevie Wonder                                              13\n",
       "Beyoncé                                                    13\n",
       "                                                           ..\n",
       "Marty Robbins                                               1\n",
       "Harry Belafonte                                             1\n",
       "(David Seville And The Chipmunks) Ross Bagdasarian, Sr.     1\n",
       "Bobby Darin                                                 1\n",
       "David Rose And His Orchestra With Andre Previn              1\n",
       "Name: count, Length: 1658, dtype: int64"
      ]
     },
     "execution_count": 27,
     "metadata": {},
     "output_type": "execute_result"
    }
   ],
   "source": [
    "df['artist'].value_counts()"
   ]
  },
  {
   "cell_type": "markdown",
   "metadata": {},
   "source": [
    "### Workers"
   ]
  },
  {
   "cell_type": "code",
   "execution_count": 28,
   "metadata": {},
   "outputs": [
    {
     "data": {
      "text/plain": [
       "workers\n",
       "John Williams, composer (John Williams)                                                                              20\n",
       "Vladimir Horowitz, artist                                                                                            15\n",
       "Henry Mancini, arranger (Henry Mancini)                                                                               8\n",
       "Robert Shaw, conductor (Atlanta Symphony Chorus; Atlanta Symphony Orchestra)                                          7\n",
       "(Chicago Symphony Orchestra)                                                                                          7\n",
       "                                                                                                                     ..\n",
       "Simon Green, producer; Simon Green & Frank Merritt, mixers                                                            1\n",
       "Simone Giani, Luca De Gregorio & Mattia Vitale, producers; Simone Giani, Luca De Gregorio & Mattia Vitale, mixers     1\n",
       "Jason Evigan & RÜFÜS DU SOL, producers; Cassian Stewart-Kasimba, mixer                                                1\n",
       "Boys Noize & Skrillex, producers; Tom Norris & Skrillex, mixers                                                       1\n",
       "Erich Leinsdorf, conductor                                                                                            1\n",
       "Name: count, Length: 2366, dtype: int64"
      ]
     },
     "execution_count": 28,
     "metadata": {},
     "output_type": "execute_result"
    }
   ],
   "source": [
    "df['workers'].value_counts()"
   ]
  },
  {
   "cell_type": "markdown",
   "metadata": {},
   "source": [
    "### Img"
   ]
  },
  {
   "cell_type": "code",
   "execution_count": 29,
   "metadata": {},
   "outputs": [
    {
     "data": {
      "text/plain": [
       "img\n",
       "https://www.grammy.com/sites/com/files/styles/artist_circle/public/muzooka/John%2BWilliams/John%2520Williams_1_1_1597170495.jpg?itok=GsnrkP98            26\n",
       "https://www.grammy.com/sites/com/files/styles/artist_circle/public/muzooka/U2/U2_1_1_1578385236.jpg?itok=rQVhxxhL                                        22\n",
       "https://www.grammy.com/sites/com/files/styles/artist_circle/public/muzooka/Vladimir%2BHorowitz/Vladimir%2520Horowitz_1_1_1597176026.jpg?itok=QiT9d29e    21\n",
       "https://www.grammy.com/sites/com/files/styles/artist_circle/public/muzooka/Henry%2BMancini/Henry%2520Mancini_1_1_1581553583.jpg?itok=oMIyl-mj            20\n",
       "https://www.grammy.com/sites/com/files/styles/artist_circle/public/georgsolti-spotlight-78824961.png?itok=rNrB7-r2                                       20\n",
       "                                                                                                                                                         ..\n",
       "https://www.grammy.com/sites/com/files/styles/artist_circle/public/muzooka/Joe%2BHarnell/Joe%2520Harnell_1_1_1597163415.jpg?itok=YxqteTRC                 1\n",
       "https://www.grammy.com/sites/com/files/styles/artist_circle/public/muzooka/Peter%2BNero/Peter%2520Nero_1_1_1581628668.jpg?itok=V6ltUGx1                   1\n",
       "https://www.grammy.com/sites/com/files/styles/artist_circle/public/muzooka/Bent%2BFabric/Bent%2520Fabric_1_1_1597162961.jpg?itok=23DIEIBy                 1\n",
       "https://www.grammy.com/sites/com/files/styles/artist_circle/public/muzooka/Burl%2BIves/Burl%2520Ives_1_1_1596100447.jpg?itok=GSm3dx38                     1\n",
       "https://www.grammy.com/sites/com/files/styles/artist_circle/public/muzooka/Khalid/Khalid_1_1_1594578772.jpg?itok=2HxjAT-X                                 1\n",
       "Name: count, Length: 1463, dtype: int64"
      ]
     },
     "execution_count": 29,
     "metadata": {},
     "output_type": "execute_result"
    }
   ],
   "source": [
    "df['img'].value_counts()"
   ]
  },
  {
   "cell_type": "markdown",
   "metadata": {},
   "source": [
    "### Winner"
   ]
  },
  {
   "cell_type": "code",
   "execution_count": 30,
   "metadata": {},
   "outputs": [
    {
     "data": {
      "text/plain": [
       "winner\n",
       "True    4810\n",
       "Name: count, dtype: int64"
      ]
     },
     "execution_count": 30,
     "metadata": {},
     "output_type": "execute_result"
    }
   ],
   "source": [
    "df['winner'].value_counts()"
   ]
  },
  {
   "cell_type": "markdown",
   "metadata": {},
   "source": [
    "## Transformations:\n",
    "Mainly we should drop the columns that dont "
   ]
  },
  {
   "cell_type": "code",
   "execution_count": 31,
   "metadata": {},
   "outputs": [
    {
     "name": "stdout",
     "output_type": "stream",
     "text": [
      "<class 'pandas.core.frame.DataFrame'>\n",
      "RangeIndex: 4810 entries, 0 to 4809\n",
      "Data columns (total 9 columns):\n",
      " #   Column         Non-Null Count  Dtype              \n",
      "---  ------         --------------  -----              \n",
      " 0   year           4810 non-null   int64              \n",
      " 1   title          4810 non-null   string             \n",
      " 2   published_at   4810 non-null   datetime64[ns, UTC]\n",
      " 3   updated_at     4810 non-null   datetime64[ns, UTC]\n",
      " 4   category       4810 non-null   string             \n",
      " 5   track_name     4810 non-null   string             \n",
      " 6   artists        4810 non-null   string             \n",
      " 7   workers        4810 non-null   string             \n",
      " 8   was_nominated  4810 non-null   bool               \n",
      "dtypes: bool(1), datetime64[ns, UTC](2), int64(1), string(5)\n",
      "memory usage: 305.5 KB\n",
      "None\n"
     ]
    }
   ],
   "source": [
    "#Every nominated is winner (at least in this dataset), and img doesnt provide nothing. We can improve storage deleting that columns\n",
    "drop_columns = ['img']\n",
    "df = df.drop(columns=drop_columns)\n",
    "\n",
    "# Object to datetime\n",
    "df['published_at'] = pd.to_datetime(df['published_at'], format='%Y-%m-%dT%H:%M:%S%z', utc=True)\n",
    "df['updated_at'] = pd.to_datetime(df['updated_at'], format='%Y-%m-%dT%H:%M:%S%z', utc=True)\n",
    "\n",
    "#Object to string\n",
    "df = df.astype({col: 'string' for col in df.select_dtypes(include='object').columns}) #Object to string\n",
    "\n",
    "df['nominee'] = df['nominee'].fillna('Unknown')\n",
    "df['artist'] = df['artist'].fillna('Unknown')\n",
    "df['workers'] = df['workers'].fillna('Unknown')\n",
    "df['workers'] = df['workers'].fillna('False')\n",
    "\n",
    "#Normalize for the future merge\n",
    "df['artist'] = df['artist'].str.lower().str.strip().str.replace(r'\\s+', ' ', regex=True)\n",
    "df['nominee'] = df['nominee'].str.lower().str.strip().str.replace(r'\\s+', ' ', regex=True)\n",
    "df = df.rename(columns={'artist': 'artists'})\n",
    "df = df.rename(columns={'nominee': 'track_name'})\n",
    "df = df.rename(columns={'winner': 'was_nominated'})\n",
    "\n",
    "#We check the transformations\n",
    "print(df.info())"
   ]
  },
  {
   "cell_type": "code",
   "execution_count": 32,
   "metadata": {},
   "outputs": [
    {
     "name": "stdout",
     "output_type": "stream",
     "text": [
      "Succesfull migration\n"
     ]
    }
   ],
   "source": [
    "engine = create_engine(f\"postgresql://{db_username}:{db_password}@{db_host}:{db_port}/{db_name}\")\n",
    "\n",
    "try:\n",
    "    df.to_sql(\"clean_awards\", engine, if_exists=\"replace\", index=False)\n",
    "    print(\"Succesfull migration\")\n",
    "except Exception as e:\n",
    "    print(f\"Error in migration: {e}\")"
   ]
  }
 ],
 "metadata": {
  "kernelspec": {
   "display_name": "env",
   "language": "python",
   "name": "python3"
  },
  "language_info": {
   "codemirror_mode": {
    "name": "ipython",
    "version": 3
   },
   "file_extension": ".py",
   "mimetype": "text/x-python",
   "name": "python",
   "nbconvert_exporter": "python",
   "pygments_lexer": "ipython3",
   "version": "3.12.7"
  }
 },
 "nbformat": 4,
 "nbformat_minor": 2
}
